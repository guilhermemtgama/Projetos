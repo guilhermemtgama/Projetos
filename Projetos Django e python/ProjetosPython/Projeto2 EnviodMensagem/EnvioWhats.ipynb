{
 "cells": [
  {
   "cell_type": "code",
   "execution_count": 38,
   "metadata": {},
   "outputs": [],
   "source": [
    "from selenium import webdriver\n",
    "from selenium.webdriver.chrome.service import Service\n",
    "from webdriver_manager.chrome import ChromeDriverManager\n",
    "\n"
   ]
  },
  {
   "cell_type": "code",
   "execution_count": null,
   "metadata": {},
   "outputs": [],
   "source": [
    "url= \"https://web.whatsapp.com/\"\n",
    "\n",
    "service = Service(ChromeDriverManager().install())\n",
    "nav = webdriver.Chrome(service=service)\n",
    "nav.get(url)"
   ]
  },
  {
   "cell_type": "code",
   "execution_count": 60,
   "metadata": {},
   "outputs": [],
   "source": [
    "from selenium.webdriver.common.keys import Keys\n",
    "import pandas as pd\n",
    "import time\n",
    "\n",
    "Mensagem = \"*NG PLAYERS* \\n\" \"        Music $ Art \\n\\n\"\n",
    "ContatosDf = pd.read_excel(\"contatos.xlsx\")\n",
    "for i, Modalidade in enumerate(ContatosDf['Modalidade']):\n",
    "\n",
    "    Matriculado = ContatosDf.loc[i, \"Matriculado\"]\n",
    "    Alunos = ContatosDf.loc[i, \"Alunos\"]\n",
    "    Contato = ContatosDf.loc[i, \"Contato\"]\n",
    "    Vencimento = ContatosDf.loc[i, \"Vencimento\"]\n",
    "    Horario = ContatosDf.loc[i, \"Horario\"]\n",
    "    DiaAula = ContatosDf.loc[i, \"Dia\"]\n",
    "    Mensalidade = ContatosDf.loc[i, \"Mensalidade\"]\n",
    "\n",
    "    if Matriculado== \"sim\":\n",
    "        nav.find_element('xpath','//*[@id=\"side\"]/div[1]/div/div/button/div[2]/span').click\n",
    "        nav.find_element('xpath','//*[@id=\"side\"]/div[1]/div/div/div[2]/div/div[1]/p').send_keys(Alunos)\n",
    "        nav.find_element('xpath','//*[@id=\"side\"]/div[1]/div/div/div[2]/div/div[1]/p').send_keys(Keys.ENTER)\n",
    "        time.sleep(2)   \n",
    "        nav.find_element('xpath','//*[@id=\"main\"]/footer/div[1]/div/span[2]/div/div[2]/div[1]/div/div[1]/p').send_keys(f\"\"\" *NG PLAYERS* \\n\" \"        Music $ Art \\n\\n Olá, {Alunos} você terá aula hoje!\"\"\")\n",
    "        time.sleep(5)\n",
    "        nav.find_element('xpath','//*[@id=\"main\"]/footer/div[1]/div/span[2]/div/div[2]/div[2]/button/span').click\n"
   ]
  },
  {
   "cell_type": "code",
   "execution_count": 30,
   "metadata": {},
   "outputs": [
    {
     "ename": "NameError",
     "evalue": "name 'keys' is not defined",
     "output_type": "error",
     "traceback": [
      "\u001b[1;31m---------------------------------------------------------------------------\u001b[0m",
      "\u001b[1;31mNameError\u001b[0m                                 Traceback (most recent call last)",
      "Cell \u001b[1;32mIn[30], line 1\u001b[0m\n\u001b[1;32m----> 1\u001b[0m nav\u001b[39m.\u001b[39mfind_element(\u001b[39m'\u001b[39m\u001b[39mxpath\u001b[39m\u001b[39m'\u001b[39m,\u001b[39m'\u001b[39m\u001b[39m//*[@id=\u001b[39m\u001b[39m\"\u001b[39m\u001b[39mside\u001b[39m\u001b[39m\"\u001b[39m\u001b[39m]/div[1]/div/div/div[2]/div/div[1]/p\u001b[39m\u001b[39m'\u001b[39m)\u001b[39m.\u001b[39msend_keys(keys\u001b[39m.\u001b[39mENTER)\n",
      "\u001b[1;31mNameError\u001b[0m: name 'keys' is not defined"
     ]
    }
   ],
   "source": []
  }
 ],
 "metadata": {
  "kernelspec": {
   "display_name": "Python 3",
   "language": "python",
   "name": "python3"
  },
  "language_info": {
   "codemirror_mode": {
    "name": "ipython",
    "version": 3
   },
   "file_extension": ".py",
   "mimetype": "text/x-python",
   "name": "python",
   "nbconvert_exporter": "python",
   "pygments_lexer": "ipython3",
   "version": "3.11.5"
  },
  "orig_nbformat": 4
 },
 "nbformat": 4,
 "nbformat_minor": 2
}
